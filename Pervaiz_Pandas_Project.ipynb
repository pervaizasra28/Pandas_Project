{
  "nbformat": 4,
  "nbformat_minor": 0,
  "metadata": {
    "colab": {
      "name": "Pervaiz_Pandas_Project.ipynb",
      "provenance": [],
      "collapsed_sections": []
    },
    "kernelspec": {
      "name": "python3",
      "display_name": "Python 3"
    },
    "language_info": {
      "name": "python"
    }
  },
  "cells": [
    {
      "cell_type": "code",
      "metadata": {
        "id": "9jMGFETDZKbe"
      },
      "source": [
        "# Import libraries for datasets as well as for graphs \n",
        "import pandas as pd\n",
        "import numpy as np\n",
        "import matplotlib.pyplot as plt\n"
      ],
      "execution_count": null,
      "outputs": []
    },
    {
      "cell_type": "code",
      "metadata": {
        "id": "jlpMXc99ZOGZ"
      },
      "source": [
        "# Load dataset\n",
        "!curl https://data.cityofnewyork.us/resource/mv4k-y93f.csv -o summons.csv"
      ],
      "execution_count": null,
      "outputs": []
    },
    {
      "cell_type": "code",
      "metadata": {
        "id": "cJDTq01JZMF-"
      },
      "source": [
        "# read dataset value 1000 rows, 17 columns\n",
        "data = pd.read_csv(\"summons.csv\", low_memory = False)\n",
        "data"
      ],
      "execution_count": null,
      "outputs": []
    },
    {
      "cell_type": "code",
      "metadata": {
        "id": "woOwUKsEZPOT"
      },
      "source": [
        "# info on the data types\n",
        "data.dtypes"
      ],
      "execution_count": null,
      "outputs": []
    },
    {
      "cell_type": "code",
      "metadata": {
        "id": "xImaUZLaZRgK"
      },
      "source": [
        "# dropping missing values, a neater look\n",
        "data.dropna(inplace = True)\n",
        "data"
      ],
      "execution_count": null,
      "outputs": []
    },
    {
      "cell_type": "code",
      "metadata": {
        "id": "LoRNAn9f49ND"
      },
      "source": [
        "# A look into the date of each \n",
        "data['summons_date'] = pd.to_datetime(data['summons_date'])\n",
        "data"
      ],
      "execution_count": null,
      "outputs": []
    },
    {
      "cell_type": "code",
      "metadata": {
        "id": "dUkxbP0rZV3H"
      },
      "source": [
        "# Q.1 What age groups consist of the most criminal cases?\n",
        "age = data.pivot_table(\n",
        "    values = 'summons_date',\n",
        "    index = ['offense_description'],\n",
        "    columns = 'age_group',\n",
        "    aggfunc = 'count',\n",
        "    fill_value = '-'\n",
        ")\n",
        "age\n",
        "# Answer: age group 25-44 have the most cases in MARIJUANA, UNLAWFUL POSSESSION 2ND DEGREE"
      ],
      "execution_count": null,
      "outputs": []
    },
    {
      "cell_type": "code",
      "metadata": {
        "id": "WT6iQTcfZWXe"
      },
      "source": [
        "# Q.2 Out of all criminal cases which is this most occured?\n",
        "most_cases = data.pivot_table(\n",
        "    values = 'summons_date',\n",
        "    index = ['offense_description'],\n",
        "    columns = 'summons_category_type',\n",
        "    aggfunc = 'count',\n",
        "    margins_name = 'TotalOffense',\n",
        "    margins = True).fillna('-')\n",
        "\n",
        "most_cases\n",
        "#answer: Marijuana is the most criminal case occured. "
      ],
      "execution_count": null,
      "outputs": []
    },
    {
      "cell_type": "code",
      "metadata": {
        "id": "XjYPRKmXZxf2"
      },
      "source": [
        "# Q.3 What borough consist of the most criminal cases?\n",
        "plot = data['boro'].value_counts().plot.bar(20,10)\n",
        "plot.set_xlabel('Number of offenses')\n",
        "plot.set_ylabel('Borough')\n",
        "plot.set_title('Which Borough has the most Criminal Cases?')\n",
        "#answer: Brooklyn consists of the most criminal cases.\n"
      ],
      "execution_count": null,
      "outputs": []
    },
    {
      "cell_type": "code",
      "metadata": {
        "id": "b5eLoC0WbPYz"
      },
      "source": [
        "#Q.4 Which gender if stated, cause certain criminal cases?\n",
        "sex = data.pivot_table(\n",
        "    values = 'summons_date',\n",
        "    index = ['sex'],\n",
        "    columns = 'offense_description',\n",
        "    aggfunc = 'count',\n",
        "    fill_value = '-'\n",
        ")\n",
        "sex\n",
        "# answer: Male has the most criminal offenses."
      ],
      "execution_count": null,
      "outputs": []
    },
    {
      "cell_type": "code",
      "metadata": {
        "id": "bcc7Wa0ZEKNl"
      },
      "source": [
        "sex_offense = sex.plot(kind = 'bar')\n",
        "sex_offense.set_title('Which gender if stated, cause certain criminal cases?')\n",
        "sex_offense.set_xlabel(\"Sex\")\n",
        "sex_offense.set_ylabel(\"Offense_description\")\n",
        "#answer: Male has the most criminal offenses."
      ],
      "execution_count": null,
      "outputs": []
    },
    {
      "cell_type": "code",
      "metadata": {
        "id": "zpfogmlWawhn"
      },
      "source": [
        "# Q.5 What jurisdiction code is frequently used?\n",
        "plot = data['jurisdiction_code'].value_counts().plot(kind = 'barh')\n",
        "plot.set_xlabel('Number of offenses')\n",
        "plot.set_ylabel('Jurisdiction_Code')\n",
        "plot.set_title('Which Jurisdiction Code is used the most?')\n",
        "#answer: jurisdicton code 0 was used the most."
      ],
      "execution_count": null,
      "outputs": []
    },
    {
      "cell_type": "code",
      "metadata": {
        "id": "CSX_-ffoQ52h"
      },
      "source": [
        "# Q.6 At what time (date) were the most criminal summons? \n",
        "data['summons_date'].value_counts()\n",
        "#answer: in march and january were the most criminal summons issued. "
      ],
      "execution_count": null,
      "outputs": []
    },
    {
      "cell_type": "code",
      "metadata": {
        "id": "dC3KtzKQSGWG"
      },
      "source": [
        "#Q.7 What precinct issued the violations the most?\n",
        "data['precinct_of_occur'].value_counts()\n",
        "#answer: Precinct 44 has the most violations issued"
      ],
      "execution_count": null,
      "outputs": []
    },
    {
      "cell_type": "code",
      "metadata": {
        "id": "bUiFtaKCSb0c"
      },
      "source": [
        "#Q.8 Within those precinct, what were the most cases present\n",
        "precinct_offense = data.pivot_table(\n",
        "    values = 'summons_category_type',\n",
        "    index = ['offense_description', 'precinct_of_occur'],\n",
        "    aggfunc = 'count',\n",
        ")\n",
        "precinct_offense\n",
        "#answer: COMMERCIAL VEHICLE; NAME/ADDRESS NOT DISPLAYED\t\n"
      ],
      "execution_count": null,
      "outputs": []
    },
    {
      "cell_type": "code",
      "metadata": {
        "id": "nGegn9ad9AMl"
      },
      "source": [
        "#Q.9 = What criminal case was done the most by a specific race?\n",
        "race_offense = data.pivot_table(\n",
        "    values = 'summons_date',\n",
        "    index = ['offense_description'],\n",
        "    columns = 'race',\n",
        "    aggfunc = 'count',\n",
        "    margins_name = 'TotalOffenses',\n",
        "    margins = True).fillna('-')\n",
        "race_offense\n",
        "#answer: race:Black, has the most criminal cases issues"
      ],
      "execution_count": null,
      "outputs": []
    },
    {
      "cell_type": "code",
      "metadata": {
        "id": "g817gR6O-aVk"
      },
      "source": [
        "#Q.10 What month consisted of the most criminal summons? \n",
        "data.pivot_table(\n",
        "    values = 'precinct_of_occur',\n",
        "    index = ['offense_description'],\n",
        "    columns = 'summons_date',\n",
        "    aggfunc = 'mean',\n",
        "    margins_name = 'TotalOffenses',\n",
        "    margins = True).fillna('-')\n",
        "# answer: July, 2021-01-06, with COMMERCIAL VEHICLE; NAME/ADDRESS NOT DISPLAYED"
      ],
      "execution_count": null,
      "outputs": []
    }
  ]
}